{
 "cells": [
  {
   "cell_type": "markdown",
   "id": "36945de5-a175-4437-88a7-fa3d3a7489c8",
   "metadata": {
    "panel-layout": {
     "height": 50.8125,
     "visible": true,
     "width": 100
    }
   },
   "source": [
    "## Exploratory Data Analysis of Global Air Quality Data\n"
   ]
  },
  {
   "cell_type": "markdown",
   "id": "31f8fad9-c419-4e07-a239-434168a050a1",
   "metadata": {
    "panel-layout": {
     "height": 95.3375015258789,
     "visible": true,
     "width": 100
    }
   },
   "source": [
    "### Problem Statement\n",
    "Air pollution poses serious risks to human health and the environment. This project uses global air quality data to explore patterns<br>\n",
    ",trends, and correlations among pollutants across countries and time, aiming to identify pollution hotspots and key insights."
   ]
  },
  {
   "cell_type": "markdown",
   "id": "b65a4eeb-99f2-4a09-92b9-c8f3b76109f7",
   "metadata": {
    "panel-layout": {
     "height": 95.3375015258789,
     "visible": true,
     "width": 100
    }
   },
   "source": [
    "### Objective\n",
    "Briefly explain what air quality is and why it matters.<br>\n",
    "To analyze global air quality patterns, identify trends, and explore correlations among pollutants, time, and location."
   ]
  },
  {
   "cell_type": "markdown",
   "id": "f9c3ce7f-5635-4d26-bb3e-afb497fdefe2",
   "metadata": {
    "panel-layout": {
     "height": 129.6124725341797,
     "visible": true,
     "width": 100
    }
   },
   "source": [
    "### Scope of Analysis\n",
    "Univariate: Distribution of pollutants (PM2.5, PM10, NO2, SO2, O3, CO).<br>\n",
    "Bivariate/Multivariate: Relationships between pollutants, weather, and geography.<br>\n",
    "Time-Series: Trends over time (daily, monthly, yearly).<br>\n",
    "Geospatial: Regional comparison of pollution levels across countries/cities."
   ]
  },
  {
   "cell_type": "code",
   "execution_count": 5,
   "id": "669947ac-fd28-473a-980c-4325997cb9c6",
   "metadata": {},
   "outputs": [],
   "source": [
    "# Importing Required Libraries\n",
    "import numpy as np\n",
    "import pandas as pd\n",
    "import matplotlib.pyplot as plt\n",
    "import seaborn as sns"
   ]
  },
  {
   "cell_type": "code",
   "execution_count": 6,
   "id": "e25863e3-5685-4808-a34c-10c0e0416518",
   "metadata": {
    "panel-layout": {
     "height": 169.1999969482422,
     "visible": true,
     "width": 100
    }
   },
   "outputs": [
    {
     "data": {
      "text/html": [
       "<div>\n",
       "<style scoped>\n",
       "    .dataframe tbody tr th:only-of-type {\n",
       "        vertical-align: middle;\n",
       "    }\n",
       "\n",
       "    .dataframe tbody tr th {\n",
       "        vertical-align: top;\n",
       "    }\n",
       "\n",
       "    .dataframe thead th {\n",
       "        text-align: right;\n",
       "    }\n",
       "</style>\n",
       "<table border=\"1\" class=\"dataframe\">\n",
       "  <thead>\n",
       "    <tr style=\"text-align: right;\">\n",
       "      <th></th>\n",
       "      <th>City</th>\n",
       "      <th>Country</th>\n",
       "      <th>Date</th>\n",
       "      <th>PM2.5</th>\n",
       "      <th>PM10</th>\n",
       "      <th>NO2</th>\n",
       "      <th>SO2</th>\n",
       "      <th>CO</th>\n",
       "      <th>O3</th>\n",
       "      <th>Temperature</th>\n",
       "      <th>Humidity</th>\n",
       "      <th>Wind Speed</th>\n",
       "    </tr>\n",
       "  </thead>\n",
       "  <tbody>\n",
       "    <tr>\n",
       "      <th>0</th>\n",
       "      <td>Bangkok</td>\n",
       "      <td>Thailand</td>\n",
       "      <td>2023-03-19</td>\n",
       "      <td>86.57</td>\n",
       "      <td>25.19</td>\n",
       "      <td>99.88</td>\n",
       "      <td>30.63</td>\n",
       "      <td>4.46</td>\n",
       "      <td>36.29</td>\n",
       "      <td>17.67</td>\n",
       "      <td>59.35</td>\n",
       "      <td>13.76</td>\n",
       "    </tr>\n",
       "    <tr>\n",
       "      <th>1</th>\n",
       "      <td>Istanbul</td>\n",
       "      <td>Turkey</td>\n",
       "      <td>2023-02-16</td>\n",
       "      <td>50.63</td>\n",
       "      <td>97.39</td>\n",
       "      <td>48.14</td>\n",
       "      <td>8.71</td>\n",
       "      <td>3.40</td>\n",
       "      <td>144.16</td>\n",
       "      <td>3.46</td>\n",
       "      <td>67.51</td>\n",
       "      <td>6.36</td>\n",
       "    </tr>\n",
       "    <tr>\n",
       "      <th>2</th>\n",
       "      <td>Rio de Janeiro</td>\n",
       "      <td>Brazil</td>\n",
       "      <td>2023-11-13</td>\n",
       "      <td>130.21</td>\n",
       "      <td>57.22</td>\n",
       "      <td>98.51</td>\n",
       "      <td>9.92</td>\n",
       "      <td>0.12</td>\n",
       "      <td>179.31</td>\n",
       "      <td>25.29</td>\n",
       "      <td>29.30</td>\n",
       "      <td>12.87</td>\n",
       "    </tr>\n",
       "    <tr>\n",
       "      <th>3</th>\n",
       "      <td>Mumbai</td>\n",
       "      <td>India</td>\n",
       "      <td>2023-03-16</td>\n",
       "      <td>119.70</td>\n",
       "      <td>130.52</td>\n",
       "      <td>10.96</td>\n",
       "      <td>33.03</td>\n",
       "      <td>7.74</td>\n",
       "      <td>38.65</td>\n",
       "      <td>23.15</td>\n",
       "      <td>99.97</td>\n",
       "      <td>7.71</td>\n",
       "    </tr>\n",
       "    <tr>\n",
       "      <th>4</th>\n",
       "      <td>Paris</td>\n",
       "      <td>France</td>\n",
       "      <td>2023-04-04</td>\n",
       "      <td>55.20</td>\n",
       "      <td>36.62</td>\n",
       "      <td>76.85</td>\n",
       "      <td>21.85</td>\n",
       "      <td>2.00</td>\n",
       "      <td>67.09</td>\n",
       "      <td>16.02</td>\n",
       "      <td>90.28</td>\n",
       "      <td>14.16</td>\n",
       "    </tr>\n",
       "  </tbody>\n",
       "</table>\n",
       "</div>"
      ],
      "text/plain": [
       "             City   Country        Date   PM2.5    PM10    NO2    SO2    CO  \\\n",
       "0         Bangkok  Thailand  2023-03-19   86.57   25.19  99.88  30.63  4.46   \n",
       "1        Istanbul    Turkey  2023-02-16   50.63   97.39  48.14   8.71  3.40   \n",
       "2  Rio de Janeiro    Brazil  2023-11-13  130.21   57.22  98.51   9.92  0.12   \n",
       "3          Mumbai     India  2023-03-16  119.70  130.52  10.96  33.03  7.74   \n",
       "4           Paris    France  2023-04-04   55.20   36.62  76.85  21.85  2.00   \n",
       "\n",
       "       O3  Temperature  Humidity  Wind Speed  \n",
       "0   36.29        17.67     59.35       13.76  \n",
       "1  144.16         3.46     67.51        6.36  \n",
       "2  179.31        25.29     29.30       12.87  \n",
       "3   38.65        23.15     99.97        7.71  \n",
       "4   67.09        16.02     90.28       14.16  "
      ]
     },
     "execution_count": 6,
     "metadata": {},
     "output_type": "execute_result"
    }
   ],
   "source": [
    "#loading Dataset\n",
    "data=pd.read_csv(r\"C:\\Users\\Nishi\\Downloads\\Python\\global_air_quality_data_10000.csv\")\n",
    "data.head()"
   ]
  },
  {
   "cell_type": "code",
   "execution_count": 7,
   "id": "646dfdbb-d783-49ba-a60e-a75a9c1e9e53",
   "metadata": {
    "panel-layout": {
     "height": 0,
     "visible": true,
     "width": 100
    }
   },
   "outputs": [
    {
     "name": "stdout",
     "output_type": "stream",
     "text": [
      "<class 'pandas.core.frame.DataFrame'>\n",
      "RangeIndex: 10000 entries, 0 to 9999\n",
      "Data columns (total 12 columns):\n",
      " #   Column       Non-Null Count  Dtype  \n",
      "---  ------       --------------  -----  \n",
      " 0   City         10000 non-null  object \n",
      " 1   Country      10000 non-null  object \n",
      " 2   Date         10000 non-null  object \n",
      " 3   PM2.5        10000 non-null  float64\n",
      " 4   PM10         10000 non-null  float64\n",
      " 5   NO2          10000 non-null  float64\n",
      " 6   SO2          10000 non-null  float64\n",
      " 7   CO           10000 non-null  float64\n",
      " 8   O3           10000 non-null  float64\n",
      " 9   Temperature  10000 non-null  float64\n",
      " 10  Humidity     10000 non-null  float64\n",
      " 11  Wind Speed   10000 non-null  float64\n",
      "dtypes: float64(9), object(3)\n",
      "memory usage: 937.6+ KB\n"
     ]
    }
   ],
   "source": [
    "#Finding the information about the dataset\n",
    "data.info()"
   ]
  },
  {
   "cell_type": "code",
   "execution_count": 8,
   "id": "5250228d-d2a4-4025-9c3a-53b8c54f771c",
   "metadata": {
    "panel-layout": {
     "height": 248.40005493164062,
     "visible": true,
     "width": 100
    }
   },
   "outputs": [
    {
     "data": {
      "text/html": [
       "<div>\n",
       "<style scoped>\n",
       "    .dataframe tbody tr th:only-of-type {\n",
       "        vertical-align: middle;\n",
       "    }\n",
       "\n",
       "    .dataframe tbody tr th {\n",
       "        vertical-align: top;\n",
       "    }\n",
       "\n",
       "    .dataframe thead th {\n",
       "        text-align: right;\n",
       "    }\n",
       "</style>\n",
       "<table border=\"1\" class=\"dataframe\">\n",
       "  <thead>\n",
       "    <tr style=\"text-align: right;\">\n",
       "      <th></th>\n",
       "      <th>PM2.5</th>\n",
       "      <th>PM10</th>\n",
       "      <th>NO2</th>\n",
       "      <th>SO2</th>\n",
       "      <th>CO</th>\n",
       "      <th>O3</th>\n",
       "      <th>Temperature</th>\n",
       "      <th>Humidity</th>\n",
       "      <th>Wind Speed</th>\n",
       "    </tr>\n",
       "  </thead>\n",
       "  <tbody>\n",
       "    <tr>\n",
       "      <th>count</th>\n",
       "      <td>10000.000000</td>\n",
       "      <td>10000.000000</td>\n",
       "      <td>10000.000000</td>\n",
       "      <td>10000.000000</td>\n",
       "      <td>10000.000000</td>\n",
       "      <td>10000.000000</td>\n",
       "      <td>10000.00000</td>\n",
       "      <td>10000.000000</td>\n",
       "      <td>10000.000000</td>\n",
       "    </tr>\n",
       "    <tr>\n",
       "      <th>mean</th>\n",
       "      <td>77.448439</td>\n",
       "      <td>104.438161</td>\n",
       "      <td>52.198649</td>\n",
       "      <td>25.344490</td>\n",
       "      <td>5.047984</td>\n",
       "      <td>106.031643</td>\n",
       "      <td>14.89715</td>\n",
       "      <td>55.078579</td>\n",
       "      <td>10.231636</td>\n",
       "    </tr>\n",
       "    <tr>\n",
       "      <th>std</th>\n",
       "      <td>41.927871</td>\n",
       "      <td>55.062396</td>\n",
       "      <td>27.320490</td>\n",
       "      <td>14.091194</td>\n",
       "      <td>2.852625</td>\n",
       "      <td>55.081345</td>\n",
       "      <td>14.44380</td>\n",
       "      <td>25.982232</td>\n",
       "      <td>5.632628</td>\n",
       "    </tr>\n",
       "    <tr>\n",
       "      <th>min</th>\n",
       "      <td>5.020000</td>\n",
       "      <td>10.000000</td>\n",
       "      <td>5.010000</td>\n",
       "      <td>1.000000</td>\n",
       "      <td>0.100000</td>\n",
       "      <td>10.040000</td>\n",
       "      <td>-10.00000</td>\n",
       "      <td>10.010000</td>\n",
       "      <td>0.500000</td>\n",
       "    </tr>\n",
       "    <tr>\n",
       "      <th>25%</th>\n",
       "      <td>41.185000</td>\n",
       "      <td>57.137500</td>\n",
       "      <td>28.347500</td>\n",
       "      <td>13.190000</td>\n",
       "      <td>2.560000</td>\n",
       "      <td>58.380000</td>\n",
       "      <td>2.25750</td>\n",
       "      <td>32.527500</td>\n",
       "      <td>5.290000</td>\n",
       "    </tr>\n",
       "    <tr>\n",
       "      <th>50%</th>\n",
       "      <td>77.725000</td>\n",
       "      <td>103.690000</td>\n",
       "      <td>52.100000</td>\n",
       "      <td>25.350000</td>\n",
       "      <td>5.090000</td>\n",
       "      <td>106.055000</td>\n",
       "      <td>14.75500</td>\n",
       "      <td>55.080000</td>\n",
       "      <td>10.260000</td>\n",
       "    </tr>\n",
       "    <tr>\n",
       "      <th>75%</th>\n",
       "      <td>113.392500</td>\n",
       "      <td>152.265000</td>\n",
       "      <td>75.705000</td>\n",
       "      <td>37.500000</td>\n",
       "      <td>7.480000</td>\n",
       "      <td>153.982500</td>\n",
       "      <td>27.38250</td>\n",
       "      <td>77.442500</td>\n",
       "      <td>15.070000</td>\n",
       "    </tr>\n",
       "    <tr>\n",
       "      <th>max</th>\n",
       "      <td>149.980000</td>\n",
       "      <td>200.000000</td>\n",
       "      <td>100.000000</td>\n",
       "      <td>49.990000</td>\n",
       "      <td>10.000000</td>\n",
       "      <td>200.000000</td>\n",
       "      <td>40.00000</td>\n",
       "      <td>99.990000</td>\n",
       "      <td>20.000000</td>\n",
       "    </tr>\n",
       "  </tbody>\n",
       "</table>\n",
       "</div>"
      ],
      "text/plain": [
       "              PM2.5          PM10           NO2           SO2            CO  \\\n",
       "count  10000.000000  10000.000000  10000.000000  10000.000000  10000.000000   \n",
       "mean      77.448439    104.438161     52.198649     25.344490      5.047984   \n",
       "std       41.927871     55.062396     27.320490     14.091194      2.852625   \n",
       "min        5.020000     10.000000      5.010000      1.000000      0.100000   \n",
       "25%       41.185000     57.137500     28.347500     13.190000      2.560000   \n",
       "50%       77.725000    103.690000     52.100000     25.350000      5.090000   \n",
       "75%      113.392500    152.265000     75.705000     37.500000      7.480000   \n",
       "max      149.980000    200.000000    100.000000     49.990000     10.000000   \n",
       "\n",
       "                 O3  Temperature      Humidity    Wind Speed  \n",
       "count  10000.000000  10000.00000  10000.000000  10000.000000  \n",
       "mean     106.031643     14.89715     55.078579     10.231636  \n",
       "std       55.081345     14.44380     25.982232      5.632628  \n",
       "min       10.040000    -10.00000     10.010000      0.500000  \n",
       "25%       58.380000      2.25750     32.527500      5.290000  \n",
       "50%      106.055000     14.75500     55.080000     10.260000  \n",
       "75%      153.982500     27.38250     77.442500     15.070000  \n",
       "max      200.000000     40.00000     99.990000     20.000000  "
      ]
     },
     "execution_count": 8,
     "metadata": {},
     "output_type": "execute_result"
    }
   ],
   "source": [
    "# Summary of Statistics\n",
    "data.describe()"
   ]
  },
  {
   "cell_type": "code",
   "execution_count": 9,
   "id": "62ca9f32-e706-478f-8ec3-0de6ee9ea798",
   "metadata": {
    "panel-layout": {
     "height": 354,
     "visible": true,
     "width": 100
    }
   },
   "outputs": [
    {
     "data": {
      "text/plain": [
       "City           0\n",
       "Country        0\n",
       "Date           0\n",
       "PM2.5          0\n",
       "PM10           0\n",
       "NO2            0\n",
       "SO2            0\n",
       "CO             0\n",
       "O3             0\n",
       "Temperature    0\n",
       "Humidity       0\n",
       "Wind Speed     0\n",
       "dtype: int64"
      ]
     },
     "execution_count": 9,
     "metadata": {},
     "output_type": "execute_result"
    }
   ],
   "source": [
    "# Finding the Null Values\n",
    "data.isnull().sum()"
   ]
  },
  {
   "cell_type": "markdown",
   "id": "4aaedfe5-804c-4694-88dd-c7f4d82ee2f2",
   "metadata": {
    "panel-layout": {
     "height": 44.07500076293945,
     "visible": true,
     "width": 100
    }
   },
   "source": [
    "### ~PM2.5 Distribution (KDE Plot)"
   ]
  },
  {
   "cell_type": "code",
   "execution_count": 19,
   "id": "36fa0a91-a604-44a4-aca1-2ed9a53c3cb2",
   "metadata": {
    "panel-layout": {
     "height": 728.1375122070312,
     "visible": true,
     "width": 100
    }
   },
   "outputs": [
    {
     "data": {
      "text/plain": [
       "<Axes: title={'center': 'PM2.5 Density Plot'}, ylabel='Density'>"
      ]
     },
     "execution_count": 19,
     "metadata": {},
     "output_type": "execute_result"
    },
    {
     "data": {
      "image/png": "[encoded data removed]",
      "text/plain": [
       "<Figure size 400x300 with 1 Axes>"
      ]
     },
     "metadata": {},
     "output_type": "display_data"
    }
   ],
   "source": [
    "plt.figure(figsize=(4,3))\n",
    "data['PM2.5'].plot(kind='kde', title=\"PM2.5 Density Plot\")\n"
   ]
  },
  {
   "cell_type": "markdown",
   "id": "f0fe1ab7-b9fd-4dbc-9102-de4333a6c73d",
   "metadata": {
    "panel-layout": {
     "height": 78.20000457763672,
     "visible": true,
     "width": 100
    }
   },
   "source": [
    "### Conclusion: \n",
    "Average PM2.5 (~77) is much higher than WHO’s safe limit (10–25 µg/m³)."
   ]
  },
  {
   "cell_type": "markdown",
   "id": "37e3c257-bbfe-4bf0-8532-f01aec6549e0",
   "metadata": {
    "panel-layout": {
     "height": 44.07500076293945,
     "visible": true,
     "width": 100
    }
   },
   "source": [
    "### ~Visualizing Outliers with Boxplot"
   ]
  },
  {
   "cell_type": "code",
   "execution_count": 20,
   "id": "544ecec6-71ce-4944-9100-7923d3936ad2",
   "metadata": {
    "panel-layout": {
     "height": 701,
     "visible": true,
     "width": 100
    }
   },
   "outputs": [
    {
     "data": {
      "image/png": "[encoded data removed]",
      "text/plain": [
       "<Figure size 400x300 with 1 Axes>"
      ]
     },
     "metadata": {},
     "output_type": "display_data"
    }
   ],
   "source": [
    "plt.figure(figsize=(4,3))\n",
    "sns.boxplot(x=data[\"PM2.5\"])\n",
    "plt.title(\"Outlier Detection - PM2.5\")\n",
    "plt.show()\n"
   ]
  },
  {
   "cell_type": "markdown",
   "id": "054800a1-1342-4c27-80f3-99d30a8b105e",
   "metadata": {
    "panel-layout": {
     "height": 78.20000457763672,
     "visible": true,
     "width": 100
    }
   },
   "source": [
    "### Conclusion:\n",
    "The dataset is clean with no extreme outliers, indicating values are well within expected ranges for all pollutants and weather features."
   ]
  },
  {
   "cell_type": "markdown",
   "id": "7cb9580c-161c-4067-ab11-14166d8f4767",
   "metadata": {
    "panel-layout": {
     "height": 44.07500076293945,
     "visible": true,
     "width": 100
    }
   },
   "source": [
    "### ~Correlation Matrix"
   ]
  },
  {
   "cell_type": "code",
   "execution_count": 24,
   "id": "b0ba0ad6-e03d-4b8f-a121-e230a61b0f8e",
   "metadata": {
    "panel-layout": {
     "height": 728.1375122070312,
     "visible": true,
     "width": 100
    }
   },
   "outputs": [
    {
     "data": {
      "text/plain": [
       "<Axes: >"
      ]
     },
     "execution_count": 24,
     "metadata": {},
     "output_type": "execute_result"
    },
    {
     "data": {
      "image/png": "[encoded data removed]",
      "text/plain": [
       "<Figure size 500x400 with 2 Axes>"
      ]
     },
     "metadata": {},
     "output_type": "display_data"
    }
   ],
   "source": [
    "plt.figure(figsize=(5,4))\n",
    "numeric_data = data.select_dtypes(include=['float64'])\n",
    "sns.heatmap(numeric_data.corr(), annot=True,cmap='coolwarm',annot_kws={\"size\":7} )"
   ]
  },
  {
   "cell_type": "markdown",
   "id": "7b90be81-b917-46fa-8bb2-2b1ba4d951db",
   "metadata": {
    "panel-layout": {
     "height": 78.20000457763672,
     "visible": true,
     "width": 100
    }
   },
   "source": [
    "### Conclusion:\n",
    "PM2.5 and PM10 rise together, O₃ increases with temperature, and wind speed reduces most pollutants.\n"
   ]
  },
  {
   "cell_type": "markdown",
   "id": "3158c32f-e7d2-4bc2-95d9-c9121cde3122",
   "metadata": {
    "panel-layout": {
     "height": 44.07500076293945,
     "visible": true,
     "width": 100
    }
   },
   "source": [
    "### ~Compare pollution levels by country"
   ]
  },
  {
   "cell_type": "code",
   "execution_count": 25,
   "id": "5699b5f8-4580-4405-90b0-7bb12ad9aef9",
   "metadata": {
    "panel-layout": {
     "height": 701,
     "visible": true,
     "width": 100
    }
   },
   "outputs": [
    {
     "data": {
      "image/png": "[encoded data removed]",
      "text/plain": [
       "<Figure size 400x300 with 1 Axes>"
      ]
     },
     "metadata": {},
     "output_type": "display_data"
    }
   ],
   "source": [
    "plt.figure(figsize=(4,3))\n",
    "city=data.groupby('Country')['SO2'].mean().sort_values(ascending=False)\n",
    "city.plot(kind=\"bar\", color=\"skyblue\")\n",
    "plt.title(\"Average SO2 Levels by Country\")\n",
    "plt.ylabel(\"PM2.5 (µg/m³)\")\n",
    "plt.xlabel(\"City\")\n",
    "plt.show()"
   ]
  },
  {
   "cell_type": "markdown",
   "id": "b1509efd-87f7-418c-82ea-905f7b3e5d37",
   "metadata": {
    "panel-layout": {
     "height": 78.20000457763672,
     "visible": true,
     "width": 100
    }
   },
   "source": [
    "### Conclusion\n",
    "Japan city show much higher average PM2.5 levels than others"
   ]
  },
  {
   "cell_type": "markdown",
   "id": "ec3d63a6-715a-4556-9239-5a1ab1427e63",
   "metadata": {
    "panel-layout": {
     "height": 44.07500076293945,
     "visible": true,
     "width": 100
    }
   },
   "source": [
    "### ~Pollution Data by year"
   ]
  },
  {
   "cell_type": "code",
   "execution_count": 27,
   "id": "76c9139c-8414-4851-b7f5-a7e57fff6128",
   "metadata": {
    "panel-layout": {
     "height": 701,
     "visible": true,
     "width": 100
    }
   },
   "outputs": [
    {
     "data": {
      "image/png": "[encoded data removed]",
      "text/plain": [
       "<Figure size 500x300 with 1 Axes>"
      ]
     },
     "metadata": {},
     "output_type": "display_data"
    }
   ],
   "source": [
    "# Daily average PM2.5\n",
    "data['Date'] = pd.to_datetime(data['Date'])\n",
    "daily_trend = data.groupby('Date')['PM2.5'].mean()\n",
    "\n",
    "plt.figure(figsize=(5,3))\n",
    "daily_trend.plot()\n",
    "plt.title(\"Monthly PM2.5 Trend\")\n",
    "plt.ylabel(\"PM2.5 (µg/m³)\")\n",
    "plt.show()\n",
    "\n"
   ]
  },
  {
   "cell_type": "markdown",
   "id": "261a35de-e6d6-48ae-91cf-fe36fd852df1",
   "metadata": {
    "panel-layout": {
     "height": 78.20000457763672,
     "visible": true,
     "width": 100
    }
   },
   "source": [
    "### Conclusion\n",
    "Pollution levels fluctuate daily/Monthly"
   ]
  },
  {
   "cell_type": "markdown",
   "id": "b68def78-9bde-4897-8d80-9fb3f14a2a81",
   "metadata": {
    "panel-layout": {
     "height": 44.07500076293945,
     "visible": true,
     "width": 100
    }
   },
   "source": [
    "### ~Feature Engineering "
   ]
  },
  {
   "cell_type": "markdown",
   "id": "6f6b3a94-8a22-4f39-93c5-8c182ae6468a",
   "metadata": {
    "panel-layout": {
     "height": 43.212501525878906,
     "visible": true,
     "width": 100
    }
   },
   "source": [
    "#### Air Quality Index --> summarizes overall pollution level."
   ]
  },
  {
   "cell_type": "code",
   "execution_count": 49,
   "id": "e2f247da-901e-49c8-9913-4d11b40ae89e",
   "metadata": {},
   "outputs": [],
   "source": [
    "data['Date'] = pd.to_datetime(data['Date'])\n",
    "\n",
    "data['Year'] = data['Date'].dt.year\n",
    "data['Month'] = data['Date'].dt.month\n",
    "data['Day'] = data['Date'].dt.day\n",
    "\n"
   ]
  },
  {
   "cell_type": "code",
   "execution_count": 52,
   "id": "307fe9bc-b121-4444-a689-f9f5cbf03317",
   "metadata": {
    "panel-layout": {
     "height": 870.2000122070312,
     "visible": true,
     "width": 100
    }
   },
   "outputs": [
    {
     "data": {
      "text/html": [
       "<div>\n",
       "<style scoped>\n",
       "    .dataframe tbody tr th:only-of-type {\n",
       "        vertical-align: middle;\n",
       "    }\n",
       "\n",
       "    .dataframe tbody tr th {\n",
       "        vertical-align: top;\n",
       "    }\n",
       "\n",
       "    .dataframe thead th {\n",
       "        text-align: right;\n",
       "    }\n",
       "</style>\n",
       "<table border=\"1\" class=\"dataframe\">\n",
       "  <thead>\n",
       "    <tr style=\"text-align: right;\">\n",
       "      <th></th>\n",
       "      <th>City</th>\n",
       "      <th>Country</th>\n",
       "      <th>Date</th>\n",
       "      <th>PM2.5</th>\n",
       "      <th>PM10</th>\n",
       "      <th>NO2</th>\n",
       "      <th>SO2</th>\n",
       "      <th>CO</th>\n",
       "      <th>O3</th>\n",
       "      <th>Temperature</th>\n",
       "      <th>Humidity</th>\n",
       "      <th>Wind Speed</th>\n",
       "      <th>Year</th>\n",
       "      <th>Month</th>\n",
       "      <th>Day</th>\n",
       "      <th>AQI</th>\n",
       "    </tr>\n",
       "  </thead>\n",
       "  <tbody>\n",
       "    <tr>\n",
       "      <th>0</th>\n",
       "      <td>Bangkok</td>\n",
       "      <td>Thailand</td>\n",
       "      <td>2023-03-19</td>\n",
       "      <td>86.57</td>\n",
       "      <td>25.19</td>\n",
       "      <td>99.88</td>\n",
       "      <td>30.63</td>\n",
       "      <td>4.46</td>\n",
       "      <td>36.29</td>\n",
       "      <td>17.67</td>\n",
       "      <td>59.35</td>\n",
       "      <td>13.76</td>\n",
       "      <td>2023</td>\n",
       "      <td>3</td>\n",
       "      <td>19</td>\n",
       "      <td>47.170000</td>\n",
       "    </tr>\n",
       "    <tr>\n",
       "      <th>1</th>\n",
       "      <td>Istanbul</td>\n",
       "      <td>Turkey</td>\n",
       "      <td>2023-02-16</td>\n",
       "      <td>50.63</td>\n",
       "      <td>97.39</td>\n",
       "      <td>48.14</td>\n",
       "      <td>8.71</td>\n",
       "      <td>3.40</td>\n",
       "      <td>144.16</td>\n",
       "      <td>3.46</td>\n",
       "      <td>67.51</td>\n",
       "      <td>6.36</td>\n",
       "      <td>2023</td>\n",
       "      <td>2</td>\n",
       "      <td>16</td>\n",
       "      <td>58.738333</td>\n",
       "    </tr>\n",
       "    <tr>\n",
       "      <th>2</th>\n",
       "      <td>Rio de Janeiro</td>\n",
       "      <td>Brazil</td>\n",
       "      <td>2023-11-13</td>\n",
       "      <td>130.21</td>\n",
       "      <td>57.22</td>\n",
       "      <td>98.51</td>\n",
       "      <td>9.92</td>\n",
       "      <td>0.12</td>\n",
       "      <td>179.31</td>\n",
       "      <td>25.29</td>\n",
       "      <td>29.30</td>\n",
       "      <td>12.87</td>\n",
       "      <td>2023</td>\n",
       "      <td>11</td>\n",
       "      <td>13</td>\n",
       "      <td>79.215000</td>\n",
       "    </tr>\n",
       "    <tr>\n",
       "      <th>3</th>\n",
       "      <td>Mumbai</td>\n",
       "      <td>India</td>\n",
       "      <td>2023-03-16</td>\n",
       "      <td>119.70</td>\n",
       "      <td>130.52</td>\n",
       "      <td>10.96</td>\n",
       "      <td>33.03</td>\n",
       "      <td>7.74</td>\n",
       "      <td>38.65</td>\n",
       "      <td>23.15</td>\n",
       "      <td>99.97</td>\n",
       "      <td>7.71</td>\n",
       "      <td>2023</td>\n",
       "      <td>3</td>\n",
       "      <td>16</td>\n",
       "      <td>56.766667</td>\n",
       "    </tr>\n",
       "    <tr>\n",
       "      <th>4</th>\n",
       "      <td>Paris</td>\n",
       "      <td>France</td>\n",
       "      <td>2023-04-04</td>\n",
       "      <td>55.20</td>\n",
       "      <td>36.62</td>\n",
       "      <td>76.85</td>\n",
       "      <td>21.85</td>\n",
       "      <td>2.00</td>\n",
       "      <td>67.09</td>\n",
       "      <td>16.02</td>\n",
       "      <td>90.28</td>\n",
       "      <td>14.16</td>\n",
       "      <td>2023</td>\n",
       "      <td>4</td>\n",
       "      <td>4</td>\n",
       "      <td>43.268333</td>\n",
       "    </tr>\n",
       "  </tbody>\n",
       "</table>\n",
       "</div>"
      ],
      "text/plain": [
       "             City   Country       Date   PM2.5    PM10    NO2    SO2    CO  \\\n",
       "0         Bangkok  Thailand 2023-03-19   86.57   25.19  99.88  30.63  4.46   \n",
       "1        Istanbul    Turkey 2023-02-16   50.63   97.39  48.14   8.71  3.40   \n",
       "2  Rio de Janeiro    Brazil 2023-11-13  130.21   57.22  98.51   9.92  0.12   \n",
       "3          Mumbai     India 2023-03-16  119.70  130.52  10.96  33.03  7.74   \n",
       "4           Paris    France 2023-04-04   55.20   36.62  76.85  21.85  2.00   \n",
       "\n",
       "       O3  Temperature  Humidity  Wind Speed  Year  Month  Day        AQI  \n",
       "0   36.29        17.67     59.35       13.76  2023      3   19  47.170000  \n",
       "1  144.16         3.46     67.51        6.36  2023      2   16  58.738333  \n",
       "2  179.31        25.29     29.30       12.87  2023     11   13  79.215000  \n",
       "3   38.65        23.15     99.97        7.71  2023      3   16  56.766667  \n",
       "4   67.09        16.02     90.28       14.16  2023      4    4  43.268333  "
      ]
     },
     "execution_count": 52,
     "metadata": {},
     "output_type": "execute_result"
    }
   ],
   "source": [
    "#creating AIQ -> Air Quality Index column from pollutants\n",
    "data['AQI'] = data[['PM2.5','PM10','NO2','SO2','CO','O3']].mean(axis=1)\n",
    "data.head()"
   ]
  },
  {
   "cell_type": "code",
   "execution_count": 57,
   "id": "c4bbf616-2b4a-4807-aa02-3f61652f0620",
   "metadata": {
    "panel-layout": {
     "height": 870.2000122070312,
     "visible": true,
     "width": 100
    }
   },
   "outputs": [
    {
     "data": {
      "text/html": [
       "<div>\n",
       "<style scoped>\n",
       "    .dataframe tbody tr th:only-of-type {\n",
       "        vertical-align: middle;\n",
       "    }\n",
       "\n",
       "    .dataframe tbody tr th {\n",
       "        vertical-align: top;\n",
       "    }\n",
       "\n",
       "    .dataframe thead th {\n",
       "        text-align: right;\n",
       "    }\n",
       "</style>\n",
       "<table border=\"1\" class=\"dataframe\">\n",
       "  <thead>\n",
       "    <tr style=\"text-align: right;\">\n",
       "      <th></th>\n",
       "      <th>City</th>\n",
       "      <th>Country</th>\n",
       "      <th>Date</th>\n",
       "      <th>PM2.5</th>\n",
       "      <th>PM10</th>\n",
       "      <th>NO2</th>\n",
       "      <th>SO2</th>\n",
       "      <th>CO</th>\n",
       "      <th>O3</th>\n",
       "      <th>Temperature</th>\n",
       "      <th>Humidity</th>\n",
       "      <th>Wind Speed</th>\n",
       "      <th>Year</th>\n",
       "      <th>Month</th>\n",
       "      <th>Day</th>\n",
       "      <th>AQI</th>\n",
       "      <th>AQI_Category</th>\n",
       "    </tr>\n",
       "  </thead>\n",
       "  <tbody>\n",
       "    <tr>\n",
       "      <th>0</th>\n",
       "      <td>Bangkok</td>\n",
       "      <td>Thailand</td>\n",
       "      <td>2023-03-19</td>\n",
       "      <td>86.57</td>\n",
       "      <td>25.19</td>\n",
       "      <td>99.88</td>\n",
       "      <td>30.63</td>\n",
       "      <td>4.46</td>\n",
       "      <td>36.29</td>\n",
       "      <td>17.67</td>\n",
       "      <td>59.35</td>\n",
       "      <td>13.76</td>\n",
       "      <td>2023</td>\n",
       "      <td>3</td>\n",
       "      <td>19</td>\n",
       "      <td>47.170000</td>\n",
       "      <td>Good</td>\n",
       "    </tr>\n",
       "    <tr>\n",
       "      <th>1</th>\n",
       "      <td>Istanbul</td>\n",
       "      <td>Turkey</td>\n",
       "      <td>2023-02-16</td>\n",
       "      <td>50.63</td>\n",
       "      <td>97.39</td>\n",
       "      <td>48.14</td>\n",
       "      <td>8.71</td>\n",
       "      <td>3.40</td>\n",
       "      <td>144.16</td>\n",
       "      <td>3.46</td>\n",
       "      <td>67.51</td>\n",
       "      <td>6.36</td>\n",
       "      <td>2023</td>\n",
       "      <td>2</td>\n",
       "      <td>16</td>\n",
       "      <td>58.738333</td>\n",
       "      <td>Moderate</td>\n",
       "    </tr>\n",
       "    <tr>\n",
       "      <th>2</th>\n",
       "      <td>Rio de Janeiro</td>\n",
       "      <td>Brazil</td>\n",
       "      <td>2023-11-13</td>\n",
       "      <td>130.21</td>\n",
       "      <td>57.22</td>\n",
       "      <td>98.51</td>\n",
       "      <td>9.92</td>\n",
       "      <td>0.12</td>\n",
       "      <td>179.31</td>\n",
       "      <td>25.29</td>\n",
       "      <td>29.30</td>\n",
       "      <td>12.87</td>\n",
       "      <td>2023</td>\n",
       "      <td>11</td>\n",
       "      <td>13</td>\n",
       "      <td>79.215000</td>\n",
       "      <td>Moderate</td>\n",
       "    </tr>\n",
       "    <tr>\n",
       "      <th>3</th>\n",
       "      <td>Mumbai</td>\n",
       "      <td>India</td>\n",
       "      <td>2023-03-16</td>\n",
       "      <td>119.70</td>\n",
       "      <td>130.52</td>\n",
       "      <td>10.96</td>\n",
       "      <td>33.03</td>\n",
       "      <td>7.74</td>\n",
       "      <td>38.65</td>\n",
       "      <td>23.15</td>\n",
       "      <td>99.97</td>\n",
       "      <td>7.71</td>\n",
       "      <td>2023</td>\n",
       "      <td>3</td>\n",
       "      <td>16</td>\n",
       "      <td>56.766667</td>\n",
       "      <td>Moderate</td>\n",
       "    </tr>\n",
       "    <tr>\n",
       "      <th>4</th>\n",
       "      <td>Paris</td>\n",
       "      <td>France</td>\n",
       "      <td>2023-04-04</td>\n",
       "      <td>55.20</td>\n",
       "      <td>36.62</td>\n",
       "      <td>76.85</td>\n",
       "      <td>21.85</td>\n",
       "      <td>2.00</td>\n",
       "      <td>67.09</td>\n",
       "      <td>16.02</td>\n",
       "      <td>90.28</td>\n",
       "      <td>14.16</td>\n",
       "      <td>2023</td>\n",
       "      <td>4</td>\n",
       "      <td>4</td>\n",
       "      <td>43.268333</td>\n",
       "      <td>Good</td>\n",
       "    </tr>\n",
       "  </tbody>\n",
       "</table>\n",
       "</div>"
      ],
      "text/plain": [
       "             City   Country       Date   PM2.5    PM10    NO2    SO2    CO  \\\n",
       "0         Bangkok  Thailand 2023-03-19   86.57   25.19  99.88  30.63  4.46   \n",
       "1        Istanbul    Turkey 2023-02-16   50.63   97.39  48.14   8.71  3.40   \n",
       "2  Rio de Janeiro    Brazil 2023-11-13  130.21   57.22  98.51   9.92  0.12   \n",
       "3          Mumbai     India 2023-03-16  119.70  130.52  10.96  33.03  7.74   \n",
       "4           Paris    France 2023-04-04   55.20   36.62  76.85  21.85  2.00   \n",
       "\n",
       "       O3  Temperature  Humidity  Wind Speed  Year  Month  Day        AQI  \\\n",
       "0   36.29        17.67     59.35       13.76  2023      3   19  47.170000   \n",
       "1  144.16         3.46     67.51        6.36  2023      2   16  58.738333   \n",
       "2  179.31        25.29     29.30       12.87  2023     11   13  79.215000   \n",
       "3   38.65        23.15     99.97        7.71  2023      3   16  56.766667   \n",
       "4   67.09        16.02     90.28       14.16  2023      4    4  43.268333   \n",
       "\n",
       "  AQI_Category  \n",
       "0         Good  \n",
       "1     Moderate  \n",
       "2     Moderate  \n",
       "3     Moderate  \n",
       "4         Good  "
      ]
     },
     "execution_count": 57,
     "metadata": {},
     "output_type": "execute_result"
    }
   ],
   "source": [
    "# Checking the AIQ levels ,interpreting it by analysing is it good,bad,moderate for health\n",
    "def aqi_category(aqi):\n",
    "    if aqi <= 50:\n",
    "        return \"Good\"\n",
    "    elif aqi <= 100:\n",
    "        return \"Moderate\"\n",
    "    elif aqi <= 150:\n",
    "        return \"Unhealthy for Sensitive Groups\"\n",
    "    elif aqi <= 200:\n",
    "        return \"Unhealthy\"\n",
    "    elif aqi <= 300:\n",
    "        return \"Very Unhealthy\"\n",
    "    else:\n",
    "        return \"Hazardous\"\n",
    "\n",
    "data['AQI_Category'] = data['AQI'].apply(aqi_category)\n",
    "data.head()\n"
   ]
  },
  {
   "cell_type": "code",
   "execution_count": null,
   "id": "29f9c4ba-6f91-4ccb-9f0f-a253006a530f",
   "metadata": {},
   "outputs": [],
   "source": []
  }
 ],
 "metadata": {
  "kernelspec": {
   "display_name": "Python [conda env:base] *",
   "language": "python",
   "name": "conda-base-py"
  },
  "language_info": {
   "codemirror_mode": {
    "name": "ipython",
    "version": 3
   },
   "file_extension": ".py",
   "mimetype": "text/x-python",
   "name": "python",
   "nbconvert_exporter": "python",
   "pygments_lexer": "ipython3",
   "version": "3.13.5"
  },
  "panel-cell-order": [
   "36945de5-a175-4437-88a7-fa3d3a7489c8",
   "31f8fad9-c419-4e07-a239-434168a050a1",
   "b65a4eeb-99f2-4a09-92b9-c8f3b76109f7",
   "f9c3ce7f-5635-4d26-bb3e-afb497fdefe2",
   "e25863e3-5685-4808-a34c-10c0e0416518",
   "646dfdbb-d783-49ba-a60e-a75a9c1e9e53",
   "5250228d-d2a4-4025-9c3a-53b8c54f771c",
   "62ca9f32-e706-478f-8ec3-0de6ee9ea798",
   "4aaedfe5-804c-4694-88dd-c7f4d82ee2f2",
   "36fa0a91-a604-44a4-aca1-2ed9a53c3cb2",
   "f0fe1ab7-b9fd-4dbc-9102-de4333a6c73d",
   "37e3c257-bbfe-4bf0-8532-f01aec6549e0",
   "544ecec6-71ce-4944-9100-7923d3936ad2",
   "054800a1-1342-4c27-80f3-99d30a8b105e",
   "7cb9580c-161c-4067-ab11-14166d8f4767",
   "b0ba0ad6-e03d-4b8f-a121-e230a61b0f8e",
   "7b90be81-b917-46fa-8bb2-2b1ba4d951db",
   "3158c32f-e7d2-4bc2-95d9-c9121cde3122",
   "5699b5f8-4580-4405-90b0-7bb12ad9aef9",
   "b1509efd-87f7-418c-82ea-905f7b3e5d37",
   "ec3d63a6-715a-4556-9239-5a1ab1427e63",
   "76c9139c-8414-4851-b7f5-a7e57fff6128",
   "261a35de-e6d6-48ae-91cf-fe36fd852df1",
   "b68def78-9bde-4897-8d80-9fb3f14a2a81",
   "6f6b3a94-8a22-4f39-93c5-8c182ae6468a",
   "307fe9bc-b121-4444-a689-f9f5cbf03317",
   "c4bbf616-2b4a-4807-aa02-3f61652f0620"
  ]
 },
 "nbformat": 4,
 "nbformat_minor": 5
}
